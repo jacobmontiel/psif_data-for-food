{
 "cells": [
  {
   "cell_type": "markdown",
   "metadata": {},
   "source": [
    "# Merging bases commentaires"
   ]
  },
  {
   "cell_type": "code",
   "execution_count": 1,
   "metadata": {
    "collapsed": false
   },
   "outputs": [],
   "source": [
    "import pandas, os"
   ]
  },
  {
   "cell_type": "markdown",
   "metadata": {},
   "source": [
    "On récupère les fichiers csv de nos différents dossiers pour les fusionner en une seule base."
   ]
  },
  {
   "cell_type": "code",
   "execution_count": 2,
   "metadata": {
    "collapsed": false
   },
   "outputs": [
    {
     "name": "stdout",
     "output_type": "stream",
     "text": [
      "Nombre de fichiers TripAdvisor: 125\n",
      "Nombre de fichiers Yelp: 1\n",
      "(85897, 8)\n"
     ]
    },
    {
     "data": {
      "text/html": [
       "<div>\n",
       "<table border=\"1\" class=\"dataframe\">\n",
       "  <thead>\n",
       "    <tr style=\"text-align: right;\">\n",
       "      <th></th>\n",
       "      <th>Adresse</th>\n",
       "      <th>Code Postal</th>\n",
       "      <th>Commentaire</th>\n",
       "      <th>Date du commentaire</th>\n",
       "      <th>Note</th>\n",
       "      <th>Origine</th>\n",
       "      <th>Resto</th>\n",
       "      <th>Ville</th>\n",
       "    </tr>\n",
       "  </thead>\n",
       "  <tbody>\n",
       "    <tr>\n",
       "      <th>0</th>\n",
       "      <td>63 AV MOZART</td>\n",
       "      <td>75016</td>\n",
       "      <td>\\nUn accueil hyper chaleureux! Les gérants son...</td>\n",
       "      <td>30/04/2016</td>\n",
       "      <td>5</td>\n",
       "      <td>TripAdvisor</td>\n",
       "      <td>MACIS CAFE</td>\n",
       "      <td>Paris</td>\n",
       "    </tr>\n",
       "    <tr>\n",
       "      <th>1</th>\n",
       "      <td>63 AV MOZART</td>\n",
       "      <td>75016</td>\n",
       "      <td>\\nNous cherchions à déjeuner, seul bémol, l'he...</td>\n",
       "      <td>21/04/2016</td>\n",
       "      <td>4</td>\n",
       "      <td>TripAdvisor</td>\n",
       "      <td>MACIS CAFE</td>\n",
       "      <td>Paris</td>\n",
       "    </tr>\n",
       "    <tr>\n",
       "      <th>2</th>\n",
       "      <td>63 AV MOZART</td>\n",
       "      <td>75016</td>\n",
       "      <td>\\nDes plats réalisés à partir de produits frai...</td>\n",
       "      <td>10/02/2016</td>\n",
       "      <td>3</td>\n",
       "      <td>TripAdvisor</td>\n",
       "      <td>MACIS CAFE</td>\n",
       "      <td>Paris</td>\n",
       "    </tr>\n",
       "    <tr>\n",
       "      <th>0</th>\n",
       "      <td>90 Rue des Orteaux</td>\n",
       "      <td>75020</td>\n",
       "      <td>\\nRestaurant Sushi plutot correct dans l ensem...</td>\n",
       "      <td>27/02/2016</td>\n",
       "      <td>3</td>\n",
       "      <td>TripAdvisor</td>\n",
       "      <td>Sushi Tomi</td>\n",
       "      <td>Paris</td>\n",
       "    </tr>\n",
       "    <tr>\n",
       "      <th>1</th>\n",
       "      <td>90 Rue des Orteaux</td>\n",
       "      <td>75020</td>\n",
       "      <td>\\nDéçue de ma dernière visite car impossible d...</td>\n",
       "      <td>17/01/2016</td>\n",
       "      <td>3</td>\n",
       "      <td>TripAdvisor</td>\n",
       "      <td>Sushi Tomi</td>\n",
       "      <td>Paris</td>\n",
       "    </tr>\n",
       "  </tbody>\n",
       "</table>\n",
       "</div>"
      ],
      "text/plain": [
       "              Adresse Code Postal  \\\n",
       "0        63 AV MOZART       75016   \n",
       "1        63 AV MOZART       75016   \n",
       "2        63 AV MOZART       75016   \n",
       "0  90 Rue des Orteaux       75020   \n",
       "1  90 Rue des Orteaux       75020   \n",
       "\n",
       "                                         Commentaire Date du commentaire  \\\n",
       "0  \\nUn accueil hyper chaleureux! Les gérants son...          30/04/2016   \n",
       "1  \\nNous cherchions à déjeuner, seul bémol, l'he...          21/04/2016   \n",
       "2  \\nDes plats réalisés à partir de produits frai...          10/02/2016   \n",
       "0  \\nRestaurant Sushi plutot correct dans l ensem...          27/02/2016   \n",
       "1  \\nDéçue de ma dernière visite car impossible d...          17/01/2016   \n",
       "\n",
       "   Note      Origine       Resto  Ville  \n",
       "0     5  TripAdvisor  MACIS CAFE  Paris  \n",
       "1     4  TripAdvisor  MACIS CAFE  Paris  \n",
       "2     3  TripAdvisor  MACIS CAFE  Paris  \n",
       "0     3  TripAdvisor  Sushi Tomi  Paris  \n",
       "1     3  TripAdvisor  Sushi Tomi  Paris  "
      ]
     },
     "execution_count": 2,
     "metadata": {},
     "output_type": "execute_result"
    }
   ],
   "source": [
    "df_general = pandas.DataFrame()\n",
    "\n",
    "TA = \"Data/Bases TripAdvisor/\"\n",
    "print (\"Nombre de fichiers TripAdvisor:\", len(os.listdir(TA)))\n",
    "for filename in os.listdir(TA):\n",
    "    df = pandas.read_csv(TA + filename, sep = \";\", encoding = 'utf_8', index_col = 0)\n",
    "    df['Origine'] = \"TripAdvisor\"\n",
    "    df_general = pandas.concat( (df_general, df) )\n",
    "    \n",
    "Yelp = \"Data/Bases Yelp/\"\n",
    "print (\"Nombre de fichiers Yelp:\", len(os.listdir(Yelp)))\n",
    "for filename in os.listdir(Yelp) :\n",
    "    df = pandas.read_csv(Yelp + filename, encoding = \"utf-8\")\n",
    "    df['Resto'] = df['\\ufeffResto'] # règle un problème avant le début du document et l'encoding en utf-8\n",
    "    del df['\\ufeffResto']\n",
    "    df['Origine'] = 'Yelp'\n",
    "    df_general = pandas.concat( (df_general, df) )    \n",
    "    \n",
    "print(df_general.shape)\n",
    "df_general.head()"
   ]
  },
  {
   "cell_type": "code",
   "execution_count": 3,
   "metadata": {
    "collapsed": false
   },
   "outputs": [
    {
     "name": "stdout",
     "output_type": "stream",
     "text": [
      "(323, 8)\n",
      "(85574, 8)\n"
     ]
    }
   ],
   "source": [
    "print(df_general[df_general.Origine == \"Yelp\"].shape)\n",
    "print(df_general[df_general.Origine == \"TripAdvisor\"].shape)"
   ]
  },
  {
   "cell_type": "markdown",
   "metadata": {},
   "source": [
    "On remet l'index à jour."
   ]
  },
  {
   "cell_type": "code",
   "execution_count": 4,
   "metadata": {
    "collapsed": false
   },
   "outputs": [],
   "source": [
    "df_general.reset_index(drop=True, inplace=True)"
   ]
  },
  {
   "cell_type": "markdown",
   "metadata": {},
   "source": [
    "On donne un identifiant unique à chaque commentaire."
   ]
  },
  {
   "cell_type": "code",
   "execution_count": 5,
   "metadata": {
    "collapsed": false
   },
   "outputs": [],
   "source": [
    "df_general[\"Id\"] = df_general.index"
   ]
  },
  {
   "cell_type": "markdown",
   "metadata": {},
   "source": [
    "On corrige le format des commentaires et du nom des restaurants."
   ]
  },
  {
   "cell_type": "code",
   "execution_count": 6,
   "metadata": {
    "collapsed": true
   },
   "outputs": [],
   "source": [
    "for i in range(df_general.shape[0]):\n",
    "    df_general.at[i, \"Commentaire\"] = df_general.at[i, \"Commentaire\"].strip().replace(\"\\r\", \"\").replace(\"\\n\", \" \").replace(\"Ã©\", \"é\").replace(\"Ã\", \"à\")\n",
    "    df_general.at[i, \"Resto\"] = df_general.at[i, \"Resto\"].lower()"
   ]
  },
  {
   "cell_type": "markdown",
   "metadata": {},
   "source": [
    "On harmonise la date des commentaires."
   ]
  },
  {
   "cell_type": "code",
   "execution_count": 7,
   "metadata": {
    "collapsed": true
   },
   "outputs": [],
   "source": [
    "for i in range(df_general.shape[0]):\n",
    "    x = df_general.at[i, \"Date du commentaire\"].split(\"/\")\n",
    "    df_general.at[i, \"Date\"] = int(x[2] + x[1] + x[0])"
   ]
  },
  {
   "cell_type": "code",
   "execution_count": 8,
   "metadata": {
    "collapsed": false
   },
   "outputs": [
    {
     "data": {
      "text/html": [
       "<div>\n",
       "<table border=\"1\" class=\"dataframe\">\n",
       "  <thead>\n",
       "    <tr style=\"text-align: right;\">\n",
       "      <th></th>\n",
       "      <th>Adresse</th>\n",
       "      <th>Code Postal</th>\n",
       "      <th>Commentaire</th>\n",
       "      <th>Date du commentaire</th>\n",
       "      <th>Note</th>\n",
       "      <th>Origine</th>\n",
       "      <th>Resto</th>\n",
       "      <th>Ville</th>\n",
       "      <th>Id</th>\n",
       "      <th>Date</th>\n",
       "    </tr>\n",
       "  </thead>\n",
       "  <tbody>\n",
       "    <tr>\n",
       "      <th>0</th>\n",
       "      <td>63 AV MOZART</td>\n",
       "      <td>75016</td>\n",
       "      <td>Un accueil hyper chaleureux! Les gérants sont ...</td>\n",
       "      <td>30/04/2016</td>\n",
       "      <td>5</td>\n",
       "      <td>TripAdvisor</td>\n",
       "      <td>macis cafe</td>\n",
       "      <td>Paris</td>\n",
       "      <td>0</td>\n",
       "      <td>20160430</td>\n",
       "    </tr>\n",
       "    <tr>\n",
       "      <th>1</th>\n",
       "      <td>63 AV MOZART</td>\n",
       "      <td>75016</td>\n",
       "      <td>Nous cherchions à déjeuner, seul bémol, l'heur...</td>\n",
       "      <td>21/04/2016</td>\n",
       "      <td>4</td>\n",
       "      <td>TripAdvisor</td>\n",
       "      <td>macis cafe</td>\n",
       "      <td>Paris</td>\n",
       "      <td>1</td>\n",
       "      <td>20160421</td>\n",
       "    </tr>\n",
       "    <tr>\n",
       "      <th>2</th>\n",
       "      <td>63 AV MOZART</td>\n",
       "      <td>75016</td>\n",
       "      <td>Des plats réalisés à partir de produits frais ...</td>\n",
       "      <td>10/02/2016</td>\n",
       "      <td>3</td>\n",
       "      <td>TripAdvisor</td>\n",
       "      <td>macis cafe</td>\n",
       "      <td>Paris</td>\n",
       "      <td>2</td>\n",
       "      <td>20160210</td>\n",
       "    </tr>\n",
       "    <tr>\n",
       "      <th>3</th>\n",
       "      <td>90 Rue des Orteaux</td>\n",
       "      <td>75020</td>\n",
       "      <td>Restaurant Sushi plutot correct dans l ensembl...</td>\n",
       "      <td>27/02/2016</td>\n",
       "      <td>3</td>\n",
       "      <td>TripAdvisor</td>\n",
       "      <td>sushi tomi</td>\n",
       "      <td>Paris</td>\n",
       "      <td>3</td>\n",
       "      <td>20160227</td>\n",
       "    </tr>\n",
       "    <tr>\n",
       "      <th>4</th>\n",
       "      <td>90 Rue des Orteaux</td>\n",
       "      <td>75020</td>\n",
       "      <td>Déçue de ma dernière visite car impossible de ...</td>\n",
       "      <td>17/01/2016</td>\n",
       "      <td>3</td>\n",
       "      <td>TripAdvisor</td>\n",
       "      <td>sushi tomi</td>\n",
       "      <td>Paris</td>\n",
       "      <td>4</td>\n",
       "      <td>20160117</td>\n",
       "    </tr>\n",
       "  </tbody>\n",
       "</table>\n",
       "</div>"
      ],
      "text/plain": [
       "              Adresse Code Postal  \\\n",
       "0        63 AV MOZART       75016   \n",
       "1        63 AV MOZART       75016   \n",
       "2        63 AV MOZART       75016   \n",
       "3  90 Rue des Orteaux       75020   \n",
       "4  90 Rue des Orteaux       75020   \n",
       "\n",
       "                                         Commentaire Date du commentaire  \\\n",
       "0  Un accueil hyper chaleureux! Les gérants sont ...          30/04/2016   \n",
       "1  Nous cherchions à déjeuner, seul bémol, l'heur...          21/04/2016   \n",
       "2  Des plats réalisés à partir de produits frais ...          10/02/2016   \n",
       "3  Restaurant Sushi plutot correct dans l ensembl...          27/02/2016   \n",
       "4  Déçue de ma dernière visite car impossible de ...          17/01/2016   \n",
       "\n",
       "   Note      Origine       Resto  Ville  Id      Date  \n",
       "0     5  TripAdvisor  macis cafe  Paris   0  20160430  \n",
       "1     4  TripAdvisor  macis cafe  Paris   1  20160421  \n",
       "2     3  TripAdvisor  macis cafe  Paris   2  20160210  \n",
       "3     3  TripAdvisor  sushi tomi  Paris   3  20160227  \n",
       "4     3  TripAdvisor  sushi tomi  Paris   4  20160117  "
      ]
     },
     "execution_count": 8,
     "metadata": {},
     "output_type": "execute_result"
    }
   ],
   "source": [
    "df_general.head()"
   ]
  },
  {
   "cell_type": "markdown",
   "metadata": {},
   "source": [
    "On enregistre la base."
   ]
  },
  {
   "cell_type": "code",
   "execution_count": 9,
   "metadata": {
    "collapsed": true
   },
   "outputs": [],
   "source": [
    "df_general.to_csv(\"base_DFG.csv\", index = False, encoding = 'utf-8')"
   ]
  },
  {
   "cell_type": "code",
   "execution_count": null,
   "metadata": {
    "collapsed": true
   },
   "outputs": [],
   "source": []
  }
 ],
 "metadata": {
  "kernelspec": {
   "display_name": "Python 3",
   "language": "python",
   "name": "python3"
  },
  "language_info": {
   "codemirror_mode": {
    "name": "ipython",
    "version": 3
   },
   "file_extension": ".py",
   "mimetype": "text/x-python",
   "name": "python",
   "nbconvert_exporter": "python",
   "pygments_lexer": "ipython3",
   "version": "3.4.1"
  }
 },
 "nbformat": 4,
 "nbformat_minor": 0
}
