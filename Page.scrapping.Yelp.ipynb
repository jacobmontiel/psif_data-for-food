{
 "cells": [
  {
   "cell_type": "markdown",
   "metadata": {},
   "source": [
    "# Détection des crises sanitaires"
   ]
  },
  {
   "cell_type": "markdown",
   "metadata": {},
   "source": [
    "#### Scrapping du site Yelp\n",
    "\n",
    "    Yelp n'est pas forcément le meilleur site pour récupérer des commentaires en français, mais ce code est une base pour développer le même scraping vers d'autres sites"
   ]
  },
  {
   "cell_type": "code",
   "execution_count": 27,
   "metadata": {
    "collapsed": true
   },
   "outputs": [],
   "source": [
    "from bs4 import BeautifulSoup\n",
    "import urllib.request, re, pandas\n",
    "import csv"
   ]
  },
  {
   "cell_type": "markdown",
   "metadata": {},
   "source": [
    "#### Le résultat attendu"
   ]
  },
  {
   "cell_type": "code",
   "execution_count": 2,
   "metadata": {
    "collapsed": false
   },
   "outputs": [
    {
     "data": {
      "text/html": [
       "<div>\n",
       "<table border=\"1\" class=\"dataframe\">\n",
       "  <thead>\n",
       "    <tr style=\"text-align: right;\">\n",
       "      <th></th>\n",
       "      <th>Resto</th>\n",
       "      <th>Adresse</th>\n",
       "      <th>Code Postal</th>\n",
       "      <th>Ville</th>\n",
       "      <th>Note</th>\n",
       "      <th>Date du commentaire</th>\n",
       "      <th>Commentaire</th>\n",
       "    </tr>\n",
       "  </thead>\n",
       "  <tbody>\n",
       "  </tbody>\n",
       "</table>\n",
       "</div>"
      ],
      "text/plain": [
       "Empty DataFrame\n",
       "Columns: [Resto, Adresse, Code Postal, Ville, Note, Date du commentaire, Commentaire]\n",
       "Index: []"
      ]
     },
     "execution_count": 2,
     "metadata": {},
     "output_type": "execute_result"
    }
   ],
   "source": [
    "pandas.DataFrame(columns = [\"Resto\",\"Adresse\",\"Code Postal\",\"Ville\",'Note',\"Date du commentaire\",'Commentaire'])"
   ]
  },
  {
   "cell_type": "code",
   "execution_count": 4,
   "metadata": {
    "collapsed": false,
    "scrolled": true
   },
   "outputs": [],
   "source": [
    "def get_requests_yelp (url, nb, niveau) : #Peut-être réutilisable pour itérer de resto en resto\n",
    "    \"\"\"A partir de la première page du restaurant,on regarde le nombre de pages de commentaires pour ce restaurant,\n",
    "    pour pouvoir itérer sur les différents questions. On doit observer le nb de commentaires par page pour savoir\n",
    "    comment formuler la requête. Dans yelp c'est url?start=k*nb pour la k-1eme page.\n",
    "    Retourne une liste des url pour lesquelles on pourra se servir de scrap_page_yelp\"\"\"\n",
    "    if \"adredir\" in url : \n",
    "        return []\n",
    "    while True : #Voir ligne 32\n",
    "        try :\n",
    "            furl = urllib.request.urlopen(url)#ça nous fait ouvrir la première page dans chaque fonction, à améliorer\n",
    "            break\n",
    "        except Exception as e : \n",
    "            print(e)\n",
    "            continue\n",
    "    soup = BeautifulSoup(furl, 'html.parser')\n",
    "    try : last_page = int(soup.find(class_ = \"page-of-pages arrange_unit arrange_unit--fill\").get_text().split('sur')[-1])\n",
    "    except : return [] #Pour le cas où on a aucune review\n",
    "    list_requests = [url]\n",
    "    for i in range(1,last_page) : #On ignore la première\n",
    "        if niveau == \"global\" : #la requête ?start =i ne se place pas au même endroit selon si on est dans \n",
    "                                #un restaurant ou dans la liste des restaurants\n",
    "            list_requests.append((url.split('&')[0]+'&start=%i&'%(i*nb)+url.split('&')[-1]))\n",
    "        else :  \n",
    "            list_requests.append((url+(\"?start=%i\"%(i*nb))))\n",
    "    return list_requests\n",
    "\n",
    "def scrap_page_yelp (url) : \n",
    "    '''Scrape sur une page les commentaires qu il trouve, en se servant des balises HTML\n",
    "    Retourne un dataframe avec en colonnes le commentaire, la note et le resto dont c'est issu'''\n",
    "    scraped_page = pandas.DataFrame(columns = [\"Resto\",\"Adresse\",\"Code Postal\",\n",
    "                                                \"Ville\",'Note',\"Date du commentaire\",'Commentaire'])\n",
    "    stop = 0\n",
    "    while True : #Permet de relancer une demande si on atteint le timeout\n",
    "        try :\n",
    "            furl = urllib.request.urlopen(url, timeout = 5)\n",
    "            soup = BeautifulSoup(furl, 'html.parser')\n",
    "            resto = (soup.h1).get_text().strip()\n",
    "            try :\n",
    "                Adresse = (soup.find(itemprop = \"streetAddress\")).get_text()\n",
    "                CP = (soup.find(itemprop=\"postalCode\")).get_text()\n",
    "            except : \n",
    "                Adresse = 0\n",
    "                CP = 0\n",
    "                #Bâtard de camion qui fume\n",
    "            Ville = (soup.find(itemprop=\"addressLocality\")).get_text()\n",
    "            for review in soup.find_all(class_ = 'review-content'):\n",
    "                Date = review.find(itemprop = \"datePublished\")['content']\n",
    "                if Date[:4] != \"2016\" : #On ne prend que les commentaires de 2016, les plus anciens ont peu d'intérêt\n",
    "                    stop = 1\n",
    "                    break \n",
    "                note = float(review.meta['content']) #Je sais pas si les demi-points existent, dans le doute, on met float\n",
    "                comment = review.p.get_text() #Get_text nous permet de nous passer des balises\n",
    "                scraped_page = scraped_page.append({'Resto': resto,\"Adresse\" : Adresse, \"Code Postal\" : CP,\n",
    "                                                    'Note': note, \"Date du commentaire\" : Date, \n",
    "                                                    \"Ville\" : Ville,'Commentaire': comment},\n",
    "                                                   ignore_index = True)#Sans ignore_index on a une syntax Error\n",
    "            return (scraped_page, stop)\n",
    "        except Exception as e : #On voit pourquoi ça ne marche pas\n",
    "            print(e)\n",
    "            continue\n",
    "\n",
    "def scrap_resto (url) :\n",
    "    if \"biz\" not in url : return #Cas des pages de pubs interstitielles\n",
    "    requests = get_requests_yelp(url, 20, \"resto\")\n",
    "    if len(requests) < 1 : return #Cas où on a 0 commentaires\n",
    "    print(\"scraping...\",url)\n",
    "    df_resto = pandas.DataFrame(columns = [\"Resto\",\"Adresse\",\"Code Postal\",\n",
    "                                        \"Ville\",'Note',\"Date du commentaire\",'Commentaire'])\n",
    "    for page in requests :\n",
    "        scrapped_page = scrap_page_yelp(url)\n",
    "        df_resto = df_resto.append(scrapped_page[0])\n",
    "        if scrapped_page[1] == 1 : break #A partir du moment où on a un commentaire antérieur à 2016, \n",
    "                                        #tous les suivants le seront aussi\n",
    "    return(df_resto)"
   ]
  },
  {
   "cell_type": "code",
   "execution_count": 6,
   "metadata": {
    "collapsed": false,
    "scrolled": true
   },
   "outputs": [
    {
     "data": {
      "text/plain": [
       "['http://www.yelp.fr/search?find_loc=Paris&cflt=food',\n",
       " 'http://www.yelp.fr/search?find_loc=Paris&start=10&cflt=food',\n",
       " 'http://www.yelp.fr/search?find_loc=Paris&start=20&cflt=food',\n",
       " 'http://www.yelp.fr/search?find_loc=Paris&start=30&cflt=food',\n",
       " 'http://www.yelp.fr/search?find_loc=Paris&start=40&cflt=food',\n",
       " 'http://www.yelp.fr/search?find_loc=Paris&start=50&cflt=food',\n",
       " 'http://www.yelp.fr/search?find_loc=Paris&start=60&cflt=food',\n",
       " 'http://www.yelp.fr/search?find_loc=Paris&start=70&cflt=food',\n",
       " 'http://www.yelp.fr/search?find_loc=Paris&start=80&cflt=food',\n",
       " 'http://www.yelp.fr/search?find_loc=Paris&start=90&cflt=food',\n",
       " 'http://www.yelp.fr/search?find_loc=Paris&start=100&cflt=food',\n",
       " 'http://www.yelp.fr/search?find_loc=Paris&start=110&cflt=food',\n",
       " 'http://www.yelp.fr/search?find_loc=Paris&start=120&cflt=food',\n",
       " 'http://www.yelp.fr/search?find_loc=Paris&start=130&cflt=food',\n",
       " 'http://www.yelp.fr/search?find_loc=Paris&start=140&cflt=food',\n",
       " 'http://www.yelp.fr/search?find_loc=Paris&start=150&cflt=food',\n",
       " 'http://www.yelp.fr/search?find_loc=Paris&start=160&cflt=food',\n",
       " 'http://www.yelp.fr/search?find_loc=Paris&start=170&cflt=food',\n",
       " 'http://www.yelp.fr/search?find_loc=Paris&start=180&cflt=food',\n",
       " 'http://www.yelp.fr/search?find_loc=Paris&start=190&cflt=food',\n",
       " 'http://www.yelp.fr/search?find_loc=Paris&start=200&cflt=food',\n",
       " 'http://www.yelp.fr/search?find_loc=Paris&start=210&cflt=food',\n",
       " 'http://www.yelp.fr/search?find_loc=Paris&start=220&cflt=food',\n",
       " 'http://www.yelp.fr/search?find_loc=Paris&start=230&cflt=food',\n",
       " 'http://www.yelp.fr/search?find_loc=Paris&start=240&cflt=food',\n",
       " 'http://www.yelp.fr/search?find_loc=Paris&start=250&cflt=food',\n",
       " 'http://www.yelp.fr/search?find_loc=Paris&start=260&cflt=food',\n",
       " 'http://www.yelp.fr/search?find_loc=Paris&start=270&cflt=food',\n",
       " 'http://www.yelp.fr/search?find_loc=Paris&start=280&cflt=food',\n",
       " 'http://www.yelp.fr/search?find_loc=Paris&start=290&cflt=food',\n",
       " 'http://www.yelp.fr/search?find_loc=Paris&start=300&cflt=food',\n",
       " 'http://www.yelp.fr/search?find_loc=Paris&start=310&cflt=food',\n",
       " 'http://www.yelp.fr/search?find_loc=Paris&start=320&cflt=food',\n",
       " 'http://www.yelp.fr/search?find_loc=Paris&start=330&cflt=food',\n",
       " 'http://www.yelp.fr/search?find_loc=Paris&start=340&cflt=food',\n",
       " 'http://www.yelp.fr/search?find_loc=Paris&start=350&cflt=food',\n",
       " 'http://www.yelp.fr/search?find_loc=Paris&start=360&cflt=food',\n",
       " 'http://www.yelp.fr/search?find_loc=Paris&start=370&cflt=food',\n",
       " 'http://www.yelp.fr/search?find_loc=Paris&start=380&cflt=food',\n",
       " 'http://www.yelp.fr/search?find_loc=Paris&start=390&cflt=food',\n",
       " 'http://www.yelp.fr/search?find_loc=Paris&start=400&cflt=food',\n",
       " 'http://www.yelp.fr/search?find_loc=Paris&start=410&cflt=food',\n",
       " 'http://www.yelp.fr/search?find_loc=Paris&start=420&cflt=food',\n",
       " 'http://www.yelp.fr/search?find_loc=Paris&start=430&cflt=food',\n",
       " 'http://www.yelp.fr/search?find_loc=Paris&start=440&cflt=food',\n",
       " 'http://www.yelp.fr/search?find_loc=Paris&start=450&cflt=food',\n",
       " 'http://www.yelp.fr/search?find_loc=Paris&start=460&cflt=food',\n",
       " 'http://www.yelp.fr/search?find_loc=Paris&start=470&cflt=food',\n",
       " 'http://www.yelp.fr/search?find_loc=Paris&start=480&cflt=food',\n",
       " 'http://www.yelp.fr/search?find_loc=Paris&start=490&cflt=food',\n",
       " 'http://www.yelp.fr/search?find_loc=Paris&start=500&cflt=food',\n",
       " 'http://www.yelp.fr/search?find_loc=Paris&start=510&cflt=food',\n",
       " 'http://www.yelp.fr/search?find_loc=Paris&start=520&cflt=food',\n",
       " 'http://www.yelp.fr/search?find_loc=Paris&start=530&cflt=food',\n",
       " 'http://www.yelp.fr/search?find_loc=Paris&start=540&cflt=food',\n",
       " 'http://www.yelp.fr/search?find_loc=Paris&start=550&cflt=food',\n",
       " 'http://www.yelp.fr/search?find_loc=Paris&start=560&cflt=food',\n",
       " 'http://www.yelp.fr/search?find_loc=Paris&start=570&cflt=food',\n",
       " 'http://www.yelp.fr/search?find_loc=Paris&start=580&cflt=food',\n",
       " 'http://www.yelp.fr/search?find_loc=Paris&start=590&cflt=food',\n",
       " 'http://www.yelp.fr/search?find_loc=Paris&start=600&cflt=food',\n",
       " 'http://www.yelp.fr/search?find_loc=Paris&start=610&cflt=food',\n",
       " 'http://www.yelp.fr/search?find_loc=Paris&start=620&cflt=food',\n",
       " 'http://www.yelp.fr/search?find_loc=Paris&start=630&cflt=food',\n",
       " 'http://www.yelp.fr/search?find_loc=Paris&start=640&cflt=food',\n",
       " 'http://www.yelp.fr/search?find_loc=Paris&start=650&cflt=food',\n",
       " 'http://www.yelp.fr/search?find_loc=Paris&start=660&cflt=food',\n",
       " 'http://www.yelp.fr/search?find_loc=Paris&start=670&cflt=food',\n",
       " 'http://www.yelp.fr/search?find_loc=Paris&start=680&cflt=food',\n",
       " 'http://www.yelp.fr/search?find_loc=Paris&start=690&cflt=food',\n",
       " 'http://www.yelp.fr/search?find_loc=Paris&start=700&cflt=food',\n",
       " 'http://www.yelp.fr/search?find_loc=Paris&start=710&cflt=food',\n",
       " 'http://www.yelp.fr/search?find_loc=Paris&start=720&cflt=food',\n",
       " 'http://www.yelp.fr/search?find_loc=Paris&start=730&cflt=food',\n",
       " 'http://www.yelp.fr/search?find_loc=Paris&start=740&cflt=food',\n",
       " 'http://www.yelp.fr/search?find_loc=Paris&start=750&cflt=food',\n",
       " 'http://www.yelp.fr/search?find_loc=Paris&start=760&cflt=food',\n",
       " 'http://www.yelp.fr/search?find_loc=Paris&start=770&cflt=food',\n",
       " 'http://www.yelp.fr/search?find_loc=Paris&start=780&cflt=food',\n",
       " 'http://www.yelp.fr/search?find_loc=Paris&start=790&cflt=food',\n",
       " 'http://www.yelp.fr/search?find_loc=Paris&start=800&cflt=food',\n",
       " 'http://www.yelp.fr/search?find_loc=Paris&start=810&cflt=food',\n",
       " 'http://www.yelp.fr/search?find_loc=Paris&start=820&cflt=food',\n",
       " 'http://www.yelp.fr/search?find_loc=Paris&start=830&cflt=food',\n",
       " 'http://www.yelp.fr/search?find_loc=Paris&start=840&cflt=food',\n",
       " 'http://www.yelp.fr/search?find_loc=Paris&start=850&cflt=food',\n",
       " 'http://www.yelp.fr/search?find_loc=Paris&start=860&cflt=food',\n",
       " 'http://www.yelp.fr/search?find_loc=Paris&start=870&cflt=food',\n",
       " 'http://www.yelp.fr/search?find_loc=Paris&start=880&cflt=food',\n",
       " 'http://www.yelp.fr/search?find_loc=Paris&start=890&cflt=food',\n",
       " 'http://www.yelp.fr/search?find_loc=Paris&start=900&cflt=food',\n",
       " 'http://www.yelp.fr/search?find_loc=Paris&start=910&cflt=food',\n",
       " 'http://www.yelp.fr/search?find_loc=Paris&start=920&cflt=food',\n",
       " 'http://www.yelp.fr/search?find_loc=Paris&start=930&cflt=food',\n",
       " 'http://www.yelp.fr/search?find_loc=Paris&start=940&cflt=food',\n",
       " 'http://www.yelp.fr/search?find_loc=Paris&start=950&cflt=food',\n",
       " 'http://www.yelp.fr/search?find_loc=Paris&start=960&cflt=food',\n",
       " 'http://www.yelp.fr/search?find_loc=Paris&start=970&cflt=food',\n",
       " 'http://www.yelp.fr/search?find_loc=Paris&start=980&cflt=food',\n",
       " 'http://www.yelp.fr/search?find_loc=Paris&start=990&cflt=food']"
      ]
     },
     "execution_count": 6,
     "metadata": {},
     "output_type": "execute_result"
    }
   ],
   "source": [
    "dataframe_general = pandas.DataFrame(columns = [\"Resto\",\"Adresse\",\"Code Postal\", \"Ville\",'Note',\"Date du commentaire\",'Commentaire'])\n",
    "starting_url = \"http://www.yelp.fr/search?find_loc=Paris&cflt=food\"\n",
    "starting_furl = urllib.request.urlopen(starting_url)\n",
    "request_restos = get_requests_yelp(starting_url, 10, \"global\")\n",
    "request_restos"
   ]
  },
  {
   "cell_type": "code",
   "execution_count": 25,
   "metadata": {
    "collapsed": false,
    "scrolled": true
   },
   "outputs": [
    {
     "name": "stdout",
     "output_type": "stream",
     "text": [
      "http://www.yelp.fr/search?find_loc=Paris&start=330&cflt=food\n"
     ]
    },
    {
     "ename": "HTTPError",
     "evalue": "HTTP Error 503: Service Temporarily Unavailable",
     "output_type": "error",
     "traceback": [
      "\u001b[0;31m---------------------------------------------------------------------------\u001b[0m",
      "\u001b[0;31mHTTPError\u001b[0m                                 Traceback (most recent call last)",
      "\u001b[0;32m<ipython-input-25-709ea1a92566>\u001b[0m in \u001b[0;36m<module>\u001b[0;34m()\u001b[0m\n\u001b[1;32m      2\u001b[0m \u001b[0;32mfor\u001b[0m \u001b[0mrequest_resto\u001b[0m \u001b[0;32min\u001b[0m \u001b[0mrequest_restos\u001b[0m\u001b[0;34m[\u001b[0m\u001b[0;36m33\u001b[0m\u001b[0;34m:\u001b[0m\u001b[0;36m43\u001b[0m\u001b[0;34m]\u001b[0m \u001b[0;34m:\u001b[0m\u001b[0;34m\u001b[0m\u001b[0m\n\u001b[1;32m      3\u001b[0m     \u001b[0mprint\u001b[0m\u001b[0;34m(\u001b[0m\u001b[0mrequest_resto\u001b[0m\u001b[0;34m)\u001b[0m\u001b[0;34m\u001b[0m\u001b[0m\n\u001b[0;32m----> 4\u001b[0;31m     \u001b[0mrestosoup\u001b[0m \u001b[0;34m=\u001b[0m \u001b[0mBeautifulSoup\u001b[0m\u001b[0;34m(\u001b[0m\u001b[0murllib\u001b[0m\u001b[0;34m.\u001b[0m\u001b[0mrequest\u001b[0m\u001b[0;34m.\u001b[0m\u001b[0murlopen\u001b[0m\u001b[0;34m(\u001b[0m\u001b[0mrequest_resto\u001b[0m\u001b[0;34m,\u001b[0m \u001b[0mtimeout\u001b[0m \u001b[0;34m=\u001b[0m \u001b[0;36m5\u001b[0m\u001b[0;34m)\u001b[0m\u001b[0;34m,\u001b[0m\u001b[0;34m'html.parser'\u001b[0m\u001b[0;34m)\u001b[0m\u001b[0;34m\u001b[0m\u001b[0m\n\u001b[0m\u001b[1;32m      5\u001b[0m     \u001b[0;32mfor\u001b[0m \u001b[0mj\u001b[0m \u001b[0;32min\u001b[0m \u001b[0mrestosoup\u001b[0m\u001b[0;34m.\u001b[0m\u001b[0mfind_all\u001b[0m\u001b[0;34m(\u001b[0m\u001b[0mclass_\u001b[0m \u001b[0;34m=\u001b[0m \u001b[0;34m\"biz-name\"\u001b[0m\u001b[0;34m)\u001b[0m \u001b[0;34m:\u001b[0m\u001b[0;34m\u001b[0m\u001b[0m\n\u001b[1;32m      6\u001b[0m         \u001b[0murl_resto\u001b[0m \u001b[0;34m=\u001b[0m \u001b[0;34m'http://www.yelp.fr'\u001b[0m\u001b[0;34m+\u001b[0m\u001b[0mj\u001b[0m\u001b[0;34m[\u001b[0m\u001b[0;34m'href'\u001b[0m\u001b[0;34m]\u001b[0m\u001b[0;34m\u001b[0m\u001b[0m\n",
      "\u001b[0;32m/Applications/anaconda/lib/python3.4/urllib/request.py\u001b[0m in \u001b[0;36murlopen\u001b[0;34m(url, data, timeout, cafile, capath, cadefault, context)\u001b[0m\n\u001b[1;32m    159\u001b[0m     \u001b[0;32melse\u001b[0m\u001b[0;34m:\u001b[0m\u001b[0;34m\u001b[0m\u001b[0m\n\u001b[1;32m    160\u001b[0m         \u001b[0mopener\u001b[0m \u001b[0;34m=\u001b[0m \u001b[0m_opener\u001b[0m\u001b[0;34m\u001b[0m\u001b[0m\n\u001b[0;32m--> 161\u001b[0;31m     \u001b[0;32mreturn\u001b[0m \u001b[0mopener\u001b[0m\u001b[0;34m.\u001b[0m\u001b[0mopen\u001b[0m\u001b[0;34m(\u001b[0m\u001b[0murl\u001b[0m\u001b[0;34m,\u001b[0m \u001b[0mdata\u001b[0m\u001b[0;34m,\u001b[0m \u001b[0mtimeout\u001b[0m\u001b[0;34m)\u001b[0m\u001b[0;34m\u001b[0m\u001b[0m\n\u001b[0m\u001b[1;32m    162\u001b[0m \u001b[0;34m\u001b[0m\u001b[0m\n\u001b[1;32m    163\u001b[0m \u001b[0;32mdef\u001b[0m \u001b[0minstall_opener\u001b[0m\u001b[0;34m(\u001b[0m\u001b[0mopener\u001b[0m\u001b[0;34m)\u001b[0m\u001b[0;34m:\u001b[0m\u001b[0;34m\u001b[0m\u001b[0m\n",
      "\u001b[0;32m/Applications/anaconda/lib/python3.4/urllib/request.py\u001b[0m in \u001b[0;36mopen\u001b[0;34m(self, fullurl, data, timeout)\u001b[0m\n\u001b[1;32m    468\u001b[0m         \u001b[0;32mfor\u001b[0m \u001b[0mprocessor\u001b[0m \u001b[0;32min\u001b[0m \u001b[0mself\u001b[0m\u001b[0;34m.\u001b[0m\u001b[0mprocess_response\u001b[0m\u001b[0;34m.\u001b[0m\u001b[0mget\u001b[0m\u001b[0;34m(\u001b[0m\u001b[0mprotocol\u001b[0m\u001b[0;34m,\u001b[0m \u001b[0;34m[\u001b[0m\u001b[0;34m]\u001b[0m\u001b[0;34m)\u001b[0m\u001b[0;34m:\u001b[0m\u001b[0;34m\u001b[0m\u001b[0m\n\u001b[1;32m    469\u001b[0m             \u001b[0mmeth\u001b[0m \u001b[0;34m=\u001b[0m \u001b[0mgetattr\u001b[0m\u001b[0;34m(\u001b[0m\u001b[0mprocessor\u001b[0m\u001b[0;34m,\u001b[0m \u001b[0mmeth_name\u001b[0m\u001b[0;34m)\u001b[0m\u001b[0;34m\u001b[0m\u001b[0m\n\u001b[0;32m--> 470\u001b[0;31m             \u001b[0mresponse\u001b[0m \u001b[0;34m=\u001b[0m \u001b[0mmeth\u001b[0m\u001b[0;34m(\u001b[0m\u001b[0mreq\u001b[0m\u001b[0;34m,\u001b[0m \u001b[0mresponse\u001b[0m\u001b[0;34m)\u001b[0m\u001b[0;34m\u001b[0m\u001b[0m\n\u001b[0m\u001b[1;32m    471\u001b[0m \u001b[0;34m\u001b[0m\u001b[0m\n\u001b[1;32m    472\u001b[0m         \u001b[0;32mreturn\u001b[0m \u001b[0mresponse\u001b[0m\u001b[0;34m\u001b[0m\u001b[0m\n",
      "\u001b[0;32m/Applications/anaconda/lib/python3.4/urllib/request.py\u001b[0m in \u001b[0;36mhttp_response\u001b[0;34m(self, request, response)\u001b[0m\n\u001b[1;32m    578\u001b[0m         \u001b[0;32mif\u001b[0m \u001b[0;32mnot\u001b[0m \u001b[0;34m(\u001b[0m\u001b[0;36m200\u001b[0m \u001b[0;34m<=\u001b[0m \u001b[0mcode\u001b[0m \u001b[0;34m<\u001b[0m \u001b[0;36m300\u001b[0m\u001b[0;34m)\u001b[0m\u001b[0;34m:\u001b[0m\u001b[0;34m\u001b[0m\u001b[0m\n\u001b[1;32m    579\u001b[0m             response = self.parent.error(\n\u001b[0;32m--> 580\u001b[0;31m                 'http', request, response, code, msg, hdrs)\n\u001b[0m\u001b[1;32m    581\u001b[0m \u001b[0;34m\u001b[0m\u001b[0m\n\u001b[1;32m    582\u001b[0m         \u001b[0;32mreturn\u001b[0m \u001b[0mresponse\u001b[0m\u001b[0;34m\u001b[0m\u001b[0m\n",
      "\u001b[0;32m/Applications/anaconda/lib/python3.4/urllib/request.py\u001b[0m in \u001b[0;36merror\u001b[0;34m(self, proto, *args)\u001b[0m\n\u001b[1;32m    506\u001b[0m         \u001b[0;32mif\u001b[0m \u001b[0mhttp_err\u001b[0m\u001b[0;34m:\u001b[0m\u001b[0;34m\u001b[0m\u001b[0m\n\u001b[1;32m    507\u001b[0m             \u001b[0margs\u001b[0m \u001b[0;34m=\u001b[0m \u001b[0;34m(\u001b[0m\u001b[0mdict\u001b[0m\u001b[0;34m,\u001b[0m \u001b[0;34m'default'\u001b[0m\u001b[0;34m,\u001b[0m \u001b[0;34m'http_error_default'\u001b[0m\u001b[0;34m)\u001b[0m \u001b[0;34m+\u001b[0m \u001b[0morig_args\u001b[0m\u001b[0;34m\u001b[0m\u001b[0m\n\u001b[0;32m--> 508\u001b[0;31m             \u001b[0;32mreturn\u001b[0m \u001b[0mself\u001b[0m\u001b[0;34m.\u001b[0m\u001b[0m_call_chain\u001b[0m\u001b[0;34m(\u001b[0m\u001b[0;34m*\u001b[0m\u001b[0margs\u001b[0m\u001b[0;34m)\u001b[0m\u001b[0;34m\u001b[0m\u001b[0m\n\u001b[0m\u001b[1;32m    509\u001b[0m \u001b[0;34m\u001b[0m\u001b[0m\n\u001b[1;32m    510\u001b[0m \u001b[0;31m# XXX probably also want an abstract factory that knows when it makes\u001b[0m\u001b[0;34m\u001b[0m\u001b[0;34m\u001b[0m\u001b[0m\n",
      "\u001b[0;32m/Applications/anaconda/lib/python3.4/urllib/request.py\u001b[0m in \u001b[0;36m_call_chain\u001b[0;34m(self, chain, kind, meth_name, *args)\u001b[0m\n\u001b[1;32m    440\u001b[0m         \u001b[0;32mfor\u001b[0m \u001b[0mhandler\u001b[0m \u001b[0;32min\u001b[0m \u001b[0mhandlers\u001b[0m\u001b[0;34m:\u001b[0m\u001b[0;34m\u001b[0m\u001b[0m\n\u001b[1;32m    441\u001b[0m             \u001b[0mfunc\u001b[0m \u001b[0;34m=\u001b[0m \u001b[0mgetattr\u001b[0m\u001b[0;34m(\u001b[0m\u001b[0mhandler\u001b[0m\u001b[0;34m,\u001b[0m \u001b[0mmeth_name\u001b[0m\u001b[0;34m)\u001b[0m\u001b[0;34m\u001b[0m\u001b[0m\n\u001b[0;32m--> 442\u001b[0;31m             \u001b[0mresult\u001b[0m \u001b[0;34m=\u001b[0m \u001b[0mfunc\u001b[0m\u001b[0;34m(\u001b[0m\u001b[0;34m*\u001b[0m\u001b[0margs\u001b[0m\u001b[0;34m)\u001b[0m\u001b[0;34m\u001b[0m\u001b[0m\n\u001b[0m\u001b[1;32m    443\u001b[0m             \u001b[0;32mif\u001b[0m \u001b[0mresult\u001b[0m \u001b[0;32mis\u001b[0m \u001b[0;32mnot\u001b[0m \u001b[0;32mNone\u001b[0m\u001b[0;34m:\u001b[0m\u001b[0;34m\u001b[0m\u001b[0m\n\u001b[1;32m    444\u001b[0m                 \u001b[0;32mreturn\u001b[0m \u001b[0mresult\u001b[0m\u001b[0;34m\u001b[0m\u001b[0m\n",
      "\u001b[0;32m/Applications/anaconda/lib/python3.4/urllib/request.py\u001b[0m in \u001b[0;36mhttp_error_default\u001b[0;34m(self, req, fp, code, msg, hdrs)\u001b[0m\n\u001b[1;32m    586\u001b[0m \u001b[0;32mclass\u001b[0m \u001b[0mHTTPDefaultErrorHandler\u001b[0m\u001b[0;34m(\u001b[0m\u001b[0mBaseHandler\u001b[0m\u001b[0;34m)\u001b[0m\u001b[0;34m:\u001b[0m\u001b[0;34m\u001b[0m\u001b[0m\n\u001b[1;32m    587\u001b[0m     \u001b[0;32mdef\u001b[0m \u001b[0mhttp_error_default\u001b[0m\u001b[0;34m(\u001b[0m\u001b[0mself\u001b[0m\u001b[0;34m,\u001b[0m \u001b[0mreq\u001b[0m\u001b[0;34m,\u001b[0m \u001b[0mfp\u001b[0m\u001b[0;34m,\u001b[0m \u001b[0mcode\u001b[0m\u001b[0;34m,\u001b[0m \u001b[0mmsg\u001b[0m\u001b[0;34m,\u001b[0m \u001b[0mhdrs\u001b[0m\u001b[0;34m)\u001b[0m\u001b[0;34m:\u001b[0m\u001b[0;34m\u001b[0m\u001b[0m\n\u001b[0;32m--> 588\u001b[0;31m         \u001b[0;32mraise\u001b[0m \u001b[0mHTTPError\u001b[0m\u001b[0;34m(\u001b[0m\u001b[0mreq\u001b[0m\u001b[0;34m.\u001b[0m\u001b[0mfull_url\u001b[0m\u001b[0;34m,\u001b[0m \u001b[0mcode\u001b[0m\u001b[0;34m,\u001b[0m \u001b[0mmsg\u001b[0m\u001b[0;34m,\u001b[0m \u001b[0mhdrs\u001b[0m\u001b[0;34m,\u001b[0m \u001b[0mfp\u001b[0m\u001b[0;34m)\u001b[0m\u001b[0;34m\u001b[0m\u001b[0m\n\u001b[0m\u001b[1;32m    589\u001b[0m \u001b[0;34m\u001b[0m\u001b[0m\n\u001b[1;32m    590\u001b[0m \u001b[0;32mclass\u001b[0m \u001b[0mHTTPRedirectHandler\u001b[0m\u001b[0;34m(\u001b[0m\u001b[0mBaseHandler\u001b[0m\u001b[0;34m)\u001b[0m\u001b[0;34m:\u001b[0m\u001b[0;34m\u001b[0m\u001b[0m\n",
      "\u001b[0;31mHTTPError\u001b[0m: HTTP Error 503: Service Temporarily Unavailable"
     ]
    }
   ],
   "source": [
    "dataframe_general1 = pandas.DataFrame(columns = [\"Resto\",\"Adresse\",\"Code Postal\", \"Ville\",'Note',\"Date du commentaire\",'Commentaire'])\n",
    "for request_resto in request_restos[33:43] :\n",
    "    print(request_resto)\n",
    "    restosoup = BeautifulSoup(urllib.request.urlopen(request_resto, timeout = 5),'html.parser')\n",
    "    for j in restosoup.find_all(class_ = \"biz-name\") :\n",
    "        url_resto = 'http://www.yelp.fr'+j['href']\n",
    "        dataframe_general1 = dataframe_general1.append(scrap_resto(url_resto))"
   ]
  },
  {
   "cell_type": "code",
   "execution_count": 10,
   "metadata": {
    "collapsed": false
   },
   "outputs": [
    {
     "data": {
      "text/html": [
       "<div>\n",
       "<table border=\"1\" class=\"dataframe\">\n",
       "  <thead>\n",
       "    <tr style=\"text-align: right;\">\n",
       "      <th></th>\n",
       "      <th>Resto</th>\n",
       "      <th>Adresse</th>\n",
       "      <th>Code Postal</th>\n",
       "      <th>Ville</th>\n",
       "      <th>Note</th>\n",
       "      <th>Date du commentaire</th>\n",
       "      <th>Commentaire</th>\n",
       "    </tr>\n",
       "  </thead>\n",
       "  <tbody>\n",
       "    <tr>\n",
       "      <th>0</th>\n",
       "      <td>Café Charlot</td>\n",
       "      <td>38 rue de Bretagne</td>\n",
       "      <td>75003</td>\n",
       "      <td>Paris</td>\n",
       "      <td>4</td>\n",
       "      <td>2016-02-17</td>\n",
       "      <td>Endroit branché et sympa !!! Allez y !!! Le th...</td>\n",
       "    </tr>\n",
       "    <tr>\n",
       "      <th>1</th>\n",
       "      <td>Café Charlot</td>\n",
       "      <td>38 rue de Bretagne</td>\n",
       "      <td>75003</td>\n",
       "      <td>Paris</td>\n",
       "      <td>3</td>\n",
       "      <td>2016-01-30</td>\n",
       "      <td>C'est tout a fait au hasard que je me suis ret...</td>\n",
       "    </tr>\n",
       "    <tr>\n",
       "      <th>0</th>\n",
       "      <td>Boot Café</td>\n",
       "      <td>19 rue du Pont aux Choux</td>\n",
       "      <td>75003</td>\n",
       "      <td>Paris</td>\n",
       "      <td>5</td>\n",
       "      <td>2016-03-03</td>\n",
       "      <td>Un vrai petit bonheur ce coffee shop !C'est mi...</td>\n",
       "    </tr>\n",
       "    <tr>\n",
       "      <th>1</th>\n",
       "      <td>Boot Café</td>\n",
       "      <td>19 rue du Pont aux Choux</td>\n",
       "      <td>75003</td>\n",
       "      <td>Paris</td>\n",
       "      <td>4</td>\n",
       "      <td>2016-03-11</td>\n",
       "      <td>On dit souvent que tout ce qui est petit est m...</td>\n",
       "    </tr>\n",
       "    <tr>\n",
       "      <th>0</th>\n",
       "      <td>Ladurée</td>\n",
       "      <td>21 rue Bonaparte</td>\n",
       "      <td>75006</td>\n",
       "      <td>Paris</td>\n",
       "      <td>5</td>\n",
       "      <td>2016-01-26</td>\n",
       "      <td>Un de mes lieux favoris sur Paris. On est accu...</td>\n",
       "    </tr>\n",
       "  </tbody>\n",
       "</table>\n",
       "</div>"
      ],
      "text/plain": [
       "          Resto                   Adresse Code Postal  Ville  Note  \\\n",
       "0  Café Charlot        38 rue de Bretagne       75003  Paris     4   \n",
       "1  Café Charlot        38 rue de Bretagne       75003  Paris     3   \n",
       "0     Boot Café  19 rue du Pont aux Choux       75003  Paris     5   \n",
       "1     Boot Café  19 rue du Pont aux Choux       75003  Paris     4   \n",
       "0       Ladurée          21 rue Bonaparte       75006  Paris     5   \n",
       "\n",
       "  Date du commentaire                                        Commentaire  \n",
       "0          2016-02-17  Endroit branché et sympa !!! Allez y !!! Le th...  \n",
       "1          2016-01-30  C'est tout a fait au hasard que je me suis ret...  \n",
       "0          2016-03-03  Un vrai petit bonheur ce coffee shop !C'est mi...  \n",
       "1          2016-03-11  On dit souvent que tout ce qui est petit est m...  \n",
       "0          2016-01-26  Un de mes lieux favoris sur Paris. On est accu...  "
      ]
     },
     "execution_count": 10,
     "metadata": {},
     "output_type": "execute_result"
    }
   ],
   "source": [
    "dataframe_general.head()"
   ]
  },
  {
   "cell_type": "code",
   "execution_count": 32,
   "metadata": {
    "collapsed": true
   },
   "outputs": [],
   "source": [
    "dataframe_general.to_csv(\"restos_330to__.csv\", sep=\",\")"
   ]
  },
  {
   "cell_type": "code",
   "execution_count": null,
   "metadata": {
    "collapsed": true
   },
   "outputs": [],
   "source": []
  }
 ],
 "metadata": {
  "anaconda-cloud": {},
  "kernelspec": {
   "display_name": "Python [Root]",
   "language": "python",
   "name": "Python [Root]"
  },
  "language_info": {
   "codemirror_mode": {
    "name": "ipython",
    "version": 3
   },
   "file_extension": ".py",
   "mimetype": "text/x-python",
   "name": "python",
   "nbconvert_exporter": "python",
   "pygments_lexer": "ipython3",
   "version": "3.5.1"
  }
 },
 "nbformat": 4,
 "nbformat_minor": 0
}
