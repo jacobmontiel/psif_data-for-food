{
 "cells": [
  {
   "cell_type": "code",
   "execution_count": 1,
   "metadata": {
    "collapsed": true
   },
   "outputs": [],
   "source": [
    "import pandas as pd\n",
    "import numpy as np\n",
    "import matplotlib.pyplot as plt"
   ]
  },
  {
   "cell_type": "code",
   "execution_count": 2,
   "metadata": {
    "collapsed": false
   },
   "outputs": [
    {
     "name": "stdout",
     "output_type": "stream",
     "text": [
      "Populating the interactive namespace from numpy and matplotlib\n"
     ]
    }
   ],
   "source": [
    "%pylab inline"
   ]
  },
  {
   "cell_type": "markdown",
   "metadata": {},
   "source": [
    "# Observed data for training a model"
   ]
  },
  {
   "cell_type": "code",
   "execution_count": 3,
   "metadata": {
    "collapsed": false
   },
   "outputs": [
    {
     "data": {
      "text/html": [
       "<div>\n",
       "<table border=\"1\" class=\"dataframe\">\n",
       "  <thead>\n",
       "    <tr style=\"text-align: right;\">\n",
       "      <th></th>\n",
       "      <th>Note_resto</th>\n",
       "      <th>Note_hygiène_resto</th>\n",
       "      <th>Variance_note_resto</th>\n",
       "      <th>Variance_note_hygiène_resto</th>\n",
       "      <th>16</th>\n",
       "      <th>alimentair</th>\n",
       "      <th>assaison</th>\n",
       "      <th>attend</th>\n",
       "      <th>brul</th>\n",
       "      <th>canap</th>\n",
       "      <th>...</th>\n",
       "      <th>sourd</th>\n",
       "      <th>tomb</th>\n",
       "      <th>traversent</th>\n",
       "      <th>ventr</th>\n",
       "      <th>vom</th>\n",
       "      <th>écrev</th>\n",
       "      <th>épic</th>\n",
       "      <th>éton</th>\n",
       "      <th>rev_cnt</th>\n",
       "      <th>inspection_note</th>\n",
       "    </tr>\n",
       "  </thead>\n",
       "  <tbody>\n",
       "    <tr>\n",
       "      <th>0</th>\n",
       "      <td>3.000000</td>\n",
       "      <td>5.000000</td>\n",
       "      <td>2.000000</td>\n",
       "      <td>?</td>\n",
       "      <td>0</td>\n",
       "      <td>0</td>\n",
       "      <td>0.0</td>\n",
       "      <td>0.0</td>\n",
       "      <td>0</td>\n",
       "      <td>0</td>\n",
       "      <td>...</td>\n",
       "      <td>0</td>\n",
       "      <td>0.0</td>\n",
       "      <td>0</td>\n",
       "      <td>0</td>\n",
       "      <td>0</td>\n",
       "      <td>0</td>\n",
       "      <td>0</td>\n",
       "      <td>0</td>\n",
       "      <td>3.0</td>\n",
       "      <td>C</td>\n",
       "    </tr>\n",
       "    <tr>\n",
       "      <th>1</th>\n",
       "      <td>4.500000</td>\n",
       "      <td>4.883333</td>\n",
       "      <td>0.250000</td>\n",
       "      <td>0.000278</td>\n",
       "      <td>0</td>\n",
       "      <td>0</td>\n",
       "      <td>0.0</td>\n",
       "      <td>0.0</td>\n",
       "      <td>0</td>\n",
       "      <td>0</td>\n",
       "      <td>...</td>\n",
       "      <td>0</td>\n",
       "      <td>0.0</td>\n",
       "      <td>0</td>\n",
       "      <td>0</td>\n",
       "      <td>0</td>\n",
       "      <td>0</td>\n",
       "      <td>0</td>\n",
       "      <td>0</td>\n",
       "      <td>1.0</td>\n",
       "      <td>C</td>\n",
       "    </tr>\n",
       "    <tr>\n",
       "      <th>2</th>\n",
       "      <td>4.500000</td>\n",
       "      <td>4.883333</td>\n",
       "      <td>0.250000</td>\n",
       "      <td>0.000278</td>\n",
       "      <td>0</td>\n",
       "      <td>0</td>\n",
       "      <td>0.0</td>\n",
       "      <td>0.0</td>\n",
       "      <td>0</td>\n",
       "      <td>0</td>\n",
       "      <td>...</td>\n",
       "      <td>0</td>\n",
       "      <td>0.0</td>\n",
       "      <td>0</td>\n",
       "      <td>0</td>\n",
       "      <td>0</td>\n",
       "      <td>0</td>\n",
       "      <td>0</td>\n",
       "      <td>0</td>\n",
       "      <td>5.0</td>\n",
       "      <td>C</td>\n",
       "    </tr>\n",
       "    <tr>\n",
       "      <th>3</th>\n",
       "      <td>3.666667</td>\n",
       "      <td>4.950000</td>\n",
       "      <td>1.555556</td>\n",
       "      <td>0</td>\n",
       "      <td>0</td>\n",
       "      <td>0</td>\n",
       "      <td>0.0</td>\n",
       "      <td>0.0</td>\n",
       "      <td>0</td>\n",
       "      <td>0</td>\n",
       "      <td>...</td>\n",
       "      <td>0</td>\n",
       "      <td>0.0</td>\n",
       "      <td>0</td>\n",
       "      <td>0</td>\n",
       "      <td>0</td>\n",
       "      <td>0</td>\n",
       "      <td>0</td>\n",
       "      <td>0</td>\n",
       "      <td>3.0</td>\n",
       "      <td>B</td>\n",
       "    </tr>\n",
       "    <tr>\n",
       "      <th>4</th>\n",
       "      <td>4.000000</td>\n",
       "      <td>4.180556</td>\n",
       "      <td>0.571429</td>\n",
       "      <td>0.696867</td>\n",
       "      <td>0</td>\n",
       "      <td>0</td>\n",
       "      <td>0.0</td>\n",
       "      <td>0.0</td>\n",
       "      <td>0</td>\n",
       "      <td>0</td>\n",
       "      <td>...</td>\n",
       "      <td>0</td>\n",
       "      <td>0.0</td>\n",
       "      <td>0</td>\n",
       "      <td>0</td>\n",
       "      <td>0</td>\n",
       "      <td>0</td>\n",
       "      <td>0</td>\n",
       "      <td>0</td>\n",
       "      <td>7.0</td>\n",
       "      <td>C</td>\n",
       "    </tr>\n",
       "  </tbody>\n",
       "</table>\n",
       "<p>5 rows × 64 columns</p>\n",
       "</div>"
      ],
      "text/plain": [
       "   Note_resto  Note_hygiène_resto  Variance_note_resto  \\\n",
       "0    3.000000            5.000000             2.000000   \n",
       "1    4.500000            4.883333             0.250000   \n",
       "2    4.500000            4.883333             0.250000   \n",
       "3    3.666667            4.950000             1.555556   \n",
       "4    4.000000            4.180556             0.571429   \n",
       "\n",
       "  Variance_note_hygiène_resto  16  alimentair  assaison  attend  brul  canap  \\\n",
       "0                           ?   0           0       0.0     0.0     0      0   \n",
       "1                    0.000278   0           0       0.0     0.0     0      0   \n",
       "2                    0.000278   0           0       0.0     0.0     0      0   \n",
       "3                           0   0           0       0.0     0.0     0      0   \n",
       "4                    0.696867   0           0       0.0     0.0     0      0   \n",
       "\n",
       "        ...         sourd  tomb  traversent  ventr  vom  écrev  épic  éton  \\\n",
       "0       ...             0   0.0           0      0    0      0     0     0   \n",
       "1       ...             0   0.0           0      0    0      0     0     0   \n",
       "2       ...             0   0.0           0      0    0      0     0     0   \n",
       "3       ...             0   0.0           0      0    0      0     0     0   \n",
       "4       ...             0   0.0           0      0    0      0     0     0   \n",
       "\n",
       "   rev_cnt  inspection_note  \n",
       "0      3.0                C  \n",
       "1      1.0                C  \n",
       "2      5.0                C  \n",
       "3      3.0                B  \n",
       "4      7.0                C  \n",
       "\n",
       "[5 rows x 64 columns]"
      ]
     },
     "execution_count": 3,
     "metadata": {},
     "output_type": "execute_result"
    }
   ],
   "source": [
    "data_file = \"./data/restaurants_feat_label_SMOTE_v1.csv\"    # Applied SMOTE using WEKA\n",
    "data = pd.read_csv(data_file)\n",
    "data.head()"
   ]
  },
  {
   "cell_type": "code",
   "execution_count": 4,
   "metadata": {
    "collapsed": false
   },
   "outputs": [
    {
     "name": "stderr",
     "output_type": "stream",
     "text": [
      "/home/jacob/fellow/env/lib/python3.5/site-packages/ipykernel/__main__.py:3: FutureWarning: convert_objects is deprecated.  Use the data-type specific converters pd.to_datetime, pd.to_timedelta and pd.to_numeric.\n",
      "  app.launch_new_instance()\n"
     ]
    }
   ],
   "source": [
    "# Features\n",
    "data.shape\n",
    "data = data.convert_objects(convert_numeric=True)"
   ]
  },
  {
   "cell_type": "code",
   "execution_count": 5,
   "metadata": {
    "collapsed": false
   },
   "outputs": [],
   "source": [
    "# Fill missing values\n",
    "data.fillna(0, inplace=True)"
   ]
  },
  {
   "cell_type": "code",
   "execution_count": 6,
   "metadata": {
    "collapsed": false
   },
   "outputs": [
    {
     "name": "stdout",
     "output_type": "stream",
     "text": [
      "(253, 63) (253,)\n"
     ]
    }
   ],
   "source": [
    "label = \"inspection_note\"\n",
    "feature_cols = data.columns.tolist()\n",
    "feature_cols.remove(label)\n",
    "X = data.drop(label, axis=1)\n",
    "y = data[label]\n",
    "print(X.shape, y.shape)"
   ]
  },
  {
   "cell_type": "code",
   "execution_count": 7,
   "metadata": {
    "collapsed": false
   },
   "outputs": [
    {
     "name": "stdout",
     "output_type": "stream",
     "text": [
      "Number of samples:  253\n",
      "Number of features:  63\n"
     ]
    }
   ],
   "source": [
    "n_samples, n_features = X.shape\n",
    "print(\"Number of samples: \", n_samples)\n",
    "print(\"Number of features: \", n_features)"
   ]
  },
  {
   "cell_type": "code",
   "execution_count": 8,
   "metadata": {
    "collapsed": false
   },
   "outputs": [],
   "source": [
    "from sklearn.metrics import roc_curve, auc\n",
    "from sklearn.cross_validation import StratifiedKFold\n",
    "from sklearn.ensemble import RandomForestClassifier\n",
    "from sklearn.ensemble import GradientBoostingClassifier\n",
    "from sklearn.linear_model import logistic\n",
    "from sklearn.cross_validation import cross_val_score"
   ]
  },
  {
   "cell_type": "code",
   "execution_count": 9,
   "metadata": {
    "collapsed": false
   },
   "outputs": [],
   "source": [
    "random_state = np.random.RandomState(0)\n",
    "\n",
    "###############################################################################\n",
    "# Regression and ROC analysis\n",
    "\n",
    "# Run regressor with cross-validation and plot ROC curves\n",
    "cv = StratifiedKFold(y, n_folds=3)\n",
    "rf = RandomForestClassifier(random_state=0, n_estimators=30, max_features=\"sqrt\")\n",
    "gbt = GradientBoostingClassifier(random_state=0, n_estimators=30)"
   ]
  },
  {
   "cell_type": "code",
   "execution_count": 10,
   "metadata": {
    "collapsed": false
   },
   "outputs": [
    {
     "name": "stdout",
     "output_type": "stream",
     "text": [
      "Cross-validation scores:  [ 0.82352941  0.80952381  0.82142857]\n",
      "Mean of cross-validation scores:  0.818160597572\n"
     ]
    }
   ],
   "source": [
    "scores = cross_val_score(rf, X, y)\n",
    "print(\"Cross-validation scores: \", scores)\n",
    "print(\"Mean of cross-validation scores: \", scores.mean())\n"
   ]
  },
  {
   "cell_type": "code",
   "execution_count": 11,
   "metadata": {
    "collapsed": false
   },
   "outputs": [
    {
     "data": {
      "text/html": [
       "<div>\n",
       "<table border=\"1\" class=\"dataframe\">\n",
       "  <thead>\n",
       "    <tr style=\"text-align: right;\">\n",
       "      <th></th>\n",
       "      <th>Adresse</th>\n",
       "      <th>Code Postal</th>\n",
       "      <th>Resto</th>\n",
       "      <th>Ville</th>\n",
       "      <th>Note_resto</th>\n",
       "      <th>Note_hygiène_resto</th>\n",
       "      <th>Variance_note_resto</th>\n",
       "      <th>Variance_note_hygiène_resto</th>\n",
       "      <th>16</th>\n",
       "      <th>alimentair</th>\n",
       "      <th>...</th>\n",
       "      <th>traversent</th>\n",
       "      <th>ventr</th>\n",
       "      <th>vom</th>\n",
       "      <th>écrev</th>\n",
       "      <th>épic</th>\n",
       "      <th>éton</th>\n",
       "      <th>rev_cnt</th>\n",
       "      <th>latitude</th>\n",
       "      <th>longitude</th>\n",
       "      <th>coords</th>\n",
       "    </tr>\n",
       "  </thead>\n",
       "  <tbody>\n",
       "    <tr>\n",
       "      <th>0</th>\n",
       "      <td>55 Boulevard Saint Marcel</td>\n",
       "      <td>75013</td>\n",
       "      <td>0 d'attente</td>\n",
       "      <td>Paris</td>\n",
       "      <td>3.900000</td>\n",
       "      <td>3.670000</td>\n",
       "      <td>0.290000</td>\n",
       "      <td>2.269600</td>\n",
       "      <td>0.0</td>\n",
       "      <td>0.0</td>\n",
       "      <td>...</td>\n",
       "      <td>0.0</td>\n",
       "      <td>0.0</td>\n",
       "      <td>0.0</td>\n",
       "      <td>0.0</td>\n",
       "      <td>3.0</td>\n",
       "      <td>1.0</td>\n",
       "      <td>10.0</td>\n",
       "      <td>48.837656</td>\n",
       "      <td>2.355498</td>\n",
       "      <td>48.8376561,2.3554979</td>\n",
       "    </tr>\n",
       "    <tr>\n",
       "      <th>1</th>\n",
       "      <td>128, rue du Faubourg Saint Martin</td>\n",
       "      <td>75010</td>\n",
       "      <td>0039 ristorante italiano</td>\n",
       "      <td>Paris</td>\n",
       "      <td>3.222222</td>\n",
       "      <td>4.846111</td>\n",
       "      <td>2.172840</td>\n",
       "      <td>0.020053</td>\n",
       "      <td>0.0</td>\n",
       "      <td>0.0</td>\n",
       "      <td>...</td>\n",
       "      <td>0.0</td>\n",
       "      <td>0.0</td>\n",
       "      <td>0.0</td>\n",
       "      <td>0.0</td>\n",
       "      <td>0.0</td>\n",
       "      <td>0.0</td>\n",
       "      <td>9.0</td>\n",
       "      <td>48.874388</td>\n",
       "      <td>2.358907</td>\n",
       "      <td>48.8743883,2.3589068</td>\n",
       "    </tr>\n",
       "    <tr>\n",
       "      <th>2</th>\n",
       "      <td>60 rue Albert</td>\n",
       "      <td>75013</td>\n",
       "      <td>015 gang nam</td>\n",
       "      <td>Paris</td>\n",
       "      <td>4.333333</td>\n",
       "      <td>4.844444</td>\n",
       "      <td>0.222222</td>\n",
       "      <td>0.010617</td>\n",
       "      <td>0.0</td>\n",
       "      <td>0.0</td>\n",
       "      <td>...</td>\n",
       "      <td>0.0</td>\n",
       "      <td>0.0</td>\n",
       "      <td>0.0</td>\n",
       "      <td>0.0</td>\n",
       "      <td>0.0</td>\n",
       "      <td>0.0</td>\n",
       "      <td>6.0</td>\n",
       "      <td>48.826235</td>\n",
       "      <td>2.371878</td>\n",
       "      <td>48.82623539999999,2.371877500000001</td>\n",
       "    </tr>\n",
       "    <tr>\n",
       "      <th>3</th>\n",
       "      <td>161 Avenue D'Italie</td>\n",
       "      <td>75013</td>\n",
       "      <td>1 pot</td>\n",
       "      <td>Paris</td>\n",
       "      <td>4.000000</td>\n",
       "      <td>4.916667</td>\n",
       "      <td>0.666667</td>\n",
       "      <td>0.000278</td>\n",
       "      <td>0.0</td>\n",
       "      <td>0.0</td>\n",
       "      <td>...</td>\n",
       "      <td>0.0</td>\n",
       "      <td>0.0</td>\n",
       "      <td>0.0</td>\n",
       "      <td>0.0</td>\n",
       "      <td>0.0</td>\n",
       "      <td>0.0</td>\n",
       "      <td>6.0</td>\n",
       "      <td>48.819530</td>\n",
       "      <td>2.359702</td>\n",
       "      <td>48.8195302,2.3597021</td>\n",
       "    </tr>\n",
       "    <tr>\n",
       "      <th>4</th>\n",
       "      <td>55 Boulevard Saint Marcel</td>\n",
       "      <td>75013</td>\n",
       "      <td>0 d'attente</td>\n",
       "      <td>Paris</td>\n",
       "      <td>3.900000</td>\n",
       "      <td>3.670000</td>\n",
       "      <td>0.290000</td>\n",
       "      <td>2.269600</td>\n",
       "      <td>0.0</td>\n",
       "      <td>0.0</td>\n",
       "      <td>...</td>\n",
       "      <td>0.0</td>\n",
       "      <td>0.0</td>\n",
       "      <td>0.0</td>\n",
       "      <td>0.0</td>\n",
       "      <td>3.0</td>\n",
       "      <td>1.0</td>\n",
       "      <td>10.0</td>\n",
       "      <td>48.837656</td>\n",
       "      <td>2.355498</td>\n",
       "      <td>48.8376561,2.3554979</td>\n",
       "    </tr>\n",
       "  </tbody>\n",
       "</table>\n",
       "<p>5 rows × 70 columns</p>\n",
       "</div>"
      ],
      "text/plain": [
       "                             Adresse Code Postal                     Resto  \\\n",
       "0          55 Boulevard Saint Marcel       75013               0 d'attente   \n",
       "1  128, rue du Faubourg Saint Martin       75010  0039 ristorante italiano   \n",
       "2                      60 rue Albert       75013              015 gang nam   \n",
       "3                161 Avenue D'Italie       75013                     1 pot   \n",
       "4          55 Boulevard Saint Marcel       75013               0 d'attente   \n",
       "\n",
       "   Ville  Note_resto  Note_hygiène_resto  Variance_note_resto  \\\n",
       "0  Paris    3.900000            3.670000             0.290000   \n",
       "1  Paris    3.222222            4.846111             2.172840   \n",
       "2  Paris    4.333333            4.844444             0.222222   \n",
       "3  Paris    4.000000            4.916667             0.666667   \n",
       "4  Paris    3.900000            3.670000             0.290000   \n",
       "\n",
       "   Variance_note_hygiène_resto   16  alimentair  \\\n",
       "0                     2.269600  0.0         0.0   \n",
       "1                     0.020053  0.0         0.0   \n",
       "2                     0.010617  0.0         0.0   \n",
       "3                     0.000278  0.0         0.0   \n",
       "4                     2.269600  0.0         0.0   \n",
       "\n",
       "                  ...                   traversent  ventr  vom  écrev  épic  \\\n",
       "0                 ...                          0.0    0.0  0.0    0.0   3.0   \n",
       "1                 ...                          0.0    0.0  0.0    0.0   0.0   \n",
       "2                 ...                          0.0    0.0  0.0    0.0   0.0   \n",
       "3                 ...                          0.0    0.0  0.0    0.0   0.0   \n",
       "4                 ...                          0.0    0.0  0.0    0.0   3.0   \n",
       "\n",
       "   éton  rev_cnt   latitude  longitude                               coords  \n",
       "0   1.0     10.0  48.837656   2.355498                 48.8376561,2.3554979  \n",
       "1   0.0      9.0  48.874388   2.358907                 48.8743883,2.3589068  \n",
       "2   0.0      6.0  48.826235   2.371878  48.82623539999999,2.371877500000001  \n",
       "3   0.0      6.0  48.819530   2.359702                 48.8195302,2.3597021  \n",
       "4   1.0     10.0  48.837656   2.355498                 48.8376561,2.3554979  \n",
       "\n",
       "[5 rows x 70 columns]"
      ]
     },
     "execution_count": 11,
     "metadata": {},
     "output_type": "execute_result"
    }
   ],
   "source": [
    "# Unobseved data set\n",
    "unlabeled_file = \"./data/base_DFG_note_feat_pp_loc.csv\"\n",
    "unlabeled = pd.read_csv(unlabeled_file)\n",
    "\n",
    "unlabeled.head()"
   ]
  },
  {
   "cell_type": "code",
   "execution_count": 12,
   "metadata": {
    "collapsed": false
   },
   "outputs": [
    {
     "data": {
      "text/plain": [
       "(8442, 63)"
      ]
     },
     "execution_count": 12,
     "metadata": {},
     "output_type": "execute_result"
    }
   ],
   "source": [
    "# Remove NaNs\n",
    "unlabeled.dropna(axis=0, inplace=True)\n",
    "unlabeled.reset_index(inplace=True)\n",
    "# Create features DataFrame\n",
    "X_unlabeled = unlabeled[feature_cols]\n",
    "X_unlabeled.shape"
   ]
  },
  {
   "cell_type": "code",
   "execution_count": 13,
   "metadata": {
    "collapsed": false
   },
   "outputs": [],
   "source": [
    "# Now train in the entire observed data\n",
    "rf.fit(X, y)\n",
    "# Apply the model in the unobserved data\n",
    "predict = rf.predict(X_unlabeled)\n",
    "predict_proba = rf.predict_proba(X_unlabeled)"
   ]
  },
  {
   "cell_type": "code",
   "execution_count": 17,
   "metadata": {
    "collapsed": false
   },
   "outputs": [],
   "source": [
    "# Append predictions to data set\n",
    "predictions_df = pd.DataFrame(data=predict, columns=[\"predict\"])\n",
    "predictions_proba_df = pd.DataFrame(data=predict_proba,\n",
    "                                    columns=[\"predict_proba_0\", \"predict_proba_1\", \"predict_proba_2\", \"predict_proba_3\"])\n",
    "data_predicted = pd.concat([unlabeled, predictions_df, predictions_proba_df], axis=1)\n",
    "data_predicted.drop([\"index\"], inplace=True, axis=1)\n",
    "# predictions_df = pd.DataFrame(predictions, columns=[feature_cols, label])"
   ]
  },
  {
   "cell_type": "code",
   "execution_count": 18,
   "metadata": {
    "collapsed": false
   },
   "outputs": [
    {
     "data": {
      "text/html": [
       "<div>\n",
       "<table border=\"1\" class=\"dataframe\">\n",
       "  <thead>\n",
       "    <tr style=\"text-align: right;\">\n",
       "      <th></th>\n",
       "      <th>Adresse</th>\n",
       "      <th>Code Postal</th>\n",
       "      <th>Resto</th>\n",
       "      <th>Ville</th>\n",
       "      <th>Note_resto</th>\n",
       "      <th>Note_hygiène_resto</th>\n",
       "      <th>Variance_note_resto</th>\n",
       "      <th>Variance_note_hygiène_resto</th>\n",
       "      <th>16</th>\n",
       "      <th>alimentair</th>\n",
       "      <th>...</th>\n",
       "      <th>éton</th>\n",
       "      <th>rev_cnt</th>\n",
       "      <th>latitude</th>\n",
       "      <th>longitude</th>\n",
       "      <th>coords</th>\n",
       "      <th>predict</th>\n",
       "      <th>predict_proba_0</th>\n",
       "      <th>predict_proba_1</th>\n",
       "      <th>predict_proba_2</th>\n",
       "      <th>predict_proba_3</th>\n",
       "    </tr>\n",
       "  </thead>\n",
       "  <tbody>\n",
       "    <tr>\n",
       "      <th>0</th>\n",
       "      <td>55 Boulevard Saint Marcel</td>\n",
       "      <td>75013</td>\n",
       "      <td>0 d'attente</td>\n",
       "      <td>Paris</td>\n",
       "      <td>3.900000</td>\n",
       "      <td>3.670000</td>\n",
       "      <td>0.290000</td>\n",
       "      <td>2.269600</td>\n",
       "      <td>0.0</td>\n",
       "      <td>0.0</td>\n",
       "      <td>...</td>\n",
       "      <td>1.0</td>\n",
       "      <td>10.0</td>\n",
       "      <td>48.837656</td>\n",
       "      <td>2.355498</td>\n",
       "      <td>48.8376561,2.3554979</td>\n",
       "      <td>C</td>\n",
       "      <td>0.2</td>\n",
       "      <td>0.233333</td>\n",
       "      <td>0.566667</td>\n",
       "      <td>0.0</td>\n",
       "    </tr>\n",
       "    <tr>\n",
       "      <th>1</th>\n",
       "      <td>128, rue du Faubourg Saint Martin</td>\n",
       "      <td>75010</td>\n",
       "      <td>0039 ristorante italiano</td>\n",
       "      <td>Paris</td>\n",
       "      <td>3.222222</td>\n",
       "      <td>4.846111</td>\n",
       "      <td>2.172840</td>\n",
       "      <td>0.020053</td>\n",
       "      <td>0.0</td>\n",
       "      <td>0.0</td>\n",
       "      <td>...</td>\n",
       "      <td>0.0</td>\n",
       "      <td>9.0</td>\n",
       "      <td>48.874388</td>\n",
       "      <td>2.358907</td>\n",
       "      <td>48.8743883,2.3589068</td>\n",
       "      <td>C</td>\n",
       "      <td>0.0</td>\n",
       "      <td>0.466667</td>\n",
       "      <td>0.533333</td>\n",
       "      <td>0.0</td>\n",
       "    </tr>\n",
       "    <tr>\n",
       "      <th>2</th>\n",
       "      <td>60 rue Albert</td>\n",
       "      <td>75013</td>\n",
       "      <td>015 gang nam</td>\n",
       "      <td>Paris</td>\n",
       "      <td>4.333333</td>\n",
       "      <td>4.844444</td>\n",
       "      <td>0.222222</td>\n",
       "      <td>0.010617</td>\n",
       "      <td>0.0</td>\n",
       "      <td>0.0</td>\n",
       "      <td>...</td>\n",
       "      <td>0.0</td>\n",
       "      <td>6.0</td>\n",
       "      <td>48.826235</td>\n",
       "      <td>2.371878</td>\n",
       "      <td>48.82623539999999,2.371877500000001</td>\n",
       "      <td>C</td>\n",
       "      <td>0.0</td>\n",
       "      <td>0.166667</td>\n",
       "      <td>0.833333</td>\n",
       "      <td>0.0</td>\n",
       "    </tr>\n",
       "    <tr>\n",
       "      <th>3</th>\n",
       "      <td>161 Avenue D'Italie</td>\n",
       "      <td>75013</td>\n",
       "      <td>1 pot</td>\n",
       "      <td>Paris</td>\n",
       "      <td>4.000000</td>\n",
       "      <td>4.916667</td>\n",
       "      <td>0.666667</td>\n",
       "      <td>0.000278</td>\n",
       "      <td>0.0</td>\n",
       "      <td>0.0</td>\n",
       "      <td>...</td>\n",
       "      <td>0.0</td>\n",
       "      <td>6.0</td>\n",
       "      <td>48.819530</td>\n",
       "      <td>2.359702</td>\n",
       "      <td>48.8195302,2.3597021</td>\n",
       "      <td>C</td>\n",
       "      <td>0.4</td>\n",
       "      <td>0.066667</td>\n",
       "      <td>0.533333</td>\n",
       "      <td>0.0</td>\n",
       "    </tr>\n",
       "    <tr>\n",
       "      <th>4</th>\n",
       "      <td>55 Boulevard Saint Marcel</td>\n",
       "      <td>75013</td>\n",
       "      <td>0 d'attente</td>\n",
       "      <td>Paris</td>\n",
       "      <td>3.900000</td>\n",
       "      <td>3.670000</td>\n",
       "      <td>0.290000</td>\n",
       "      <td>2.269600</td>\n",
       "      <td>0.0</td>\n",
       "      <td>0.0</td>\n",
       "      <td>...</td>\n",
       "      <td>1.0</td>\n",
       "      <td>10.0</td>\n",
       "      <td>48.837656</td>\n",
       "      <td>2.355498</td>\n",
       "      <td>48.8376561,2.3554979</td>\n",
       "      <td>C</td>\n",
       "      <td>0.2</td>\n",
       "      <td>0.233333</td>\n",
       "      <td>0.566667</td>\n",
       "      <td>0.0</td>\n",
       "    </tr>\n",
       "  </tbody>\n",
       "</table>\n",
       "<p>5 rows × 75 columns</p>\n",
       "</div>"
      ],
      "text/plain": [
       "                             Adresse Code Postal                     Resto  \\\n",
       "0          55 Boulevard Saint Marcel       75013               0 d'attente   \n",
       "1  128, rue du Faubourg Saint Martin       75010  0039 ristorante italiano   \n",
       "2                      60 rue Albert       75013              015 gang nam   \n",
       "3                161 Avenue D'Italie       75013                     1 pot   \n",
       "4          55 Boulevard Saint Marcel       75013               0 d'attente   \n",
       "\n",
       "   Ville  Note_resto  Note_hygiène_resto  Variance_note_resto  \\\n",
       "0  Paris    3.900000            3.670000             0.290000   \n",
       "1  Paris    3.222222            4.846111             2.172840   \n",
       "2  Paris    4.333333            4.844444             0.222222   \n",
       "3  Paris    4.000000            4.916667             0.666667   \n",
       "4  Paris    3.900000            3.670000             0.290000   \n",
       "\n",
       "   Variance_note_hygiène_resto   16  alimentair       ...         éton  \\\n",
       "0                     2.269600  0.0         0.0       ...          1.0   \n",
       "1                     0.020053  0.0         0.0       ...          0.0   \n",
       "2                     0.010617  0.0         0.0       ...          0.0   \n",
       "3                     0.000278  0.0         0.0       ...          0.0   \n",
       "4                     2.269600  0.0         0.0       ...          1.0   \n",
       "\n",
       "   rev_cnt   latitude  longitude                               coords  \\\n",
       "0     10.0  48.837656   2.355498                 48.8376561,2.3554979   \n",
       "1      9.0  48.874388   2.358907                 48.8743883,2.3589068   \n",
       "2      6.0  48.826235   2.371878  48.82623539999999,2.371877500000001   \n",
       "3      6.0  48.819530   2.359702                 48.8195302,2.3597021   \n",
       "4     10.0  48.837656   2.355498                 48.8376561,2.3554979   \n",
       "\n",
       "   predict  predict_proba_0  predict_proba_1  predict_proba_2  predict_proba_3  \n",
       "0        C              0.2         0.233333         0.566667              0.0  \n",
       "1        C              0.0         0.466667         0.533333              0.0  \n",
       "2        C              0.0         0.166667         0.833333              0.0  \n",
       "3        C              0.4         0.066667         0.533333              0.0  \n",
       "4        C              0.2         0.233333         0.566667              0.0  \n",
       "\n",
       "[5 rows x 75 columns]"
      ]
     },
     "execution_count": 18,
     "metadata": {},
     "output_type": "execute_result"
    }
   ],
   "source": [
    "data_predicted.head()"
   ]
  },
  {
   "cell_type": "code",
   "execution_count": 19,
   "metadata": {
    "collapsed": true
   },
   "outputs": [],
   "source": [
    "# Save to file\n",
    "data_predicted_file = \"./data/base_DFG_predicted_v1.csv\"\n",
    "data_predicted.to_csv(data_predicted_file, index=False, sep=\";\")"
   ]
  },
  {
   "cell_type": "code",
   "execution_count": 24,
   "metadata": {
    "collapsed": false
   },
   "outputs": [],
   "source": [
    "# For plotting purposes only\n",
    "data_predicted[[\"latitude\", \"longitude\", \"predict\",\"predict_proba_0\", \"predict_proba_1\", \"predict_proba_2\"]].to_csv(\n",
    "    \"./data/plot_predictions.csv\", index=False)"
   ]
  },
  {
   "cell_type": "code",
   "execution_count": null,
   "metadata": {
    "collapsed": false
   },
   "outputs": [],
   "source": []
  },
  {
   "cell_type": "raw",
   "metadata": {},
   "source": []
  },
  {
   "cell_type": "code",
   "execution_count": null,
   "metadata": {
    "collapsed": true
   },
   "outputs": [],
   "source": []
  }
 ],
 "metadata": {
  "kernelspec": {
   "display_name": "py3.5 env",
   "language": "python",
   "name": "py3"
  },
  "language_info": {
   "codemirror_mode": {
    "name": "ipython",
    "version": 3
   },
   "file_extension": ".py",
   "mimetype": "text/x-python",
   "name": "python",
   "nbconvert_exporter": "python",
   "pygments_lexer": "ipython3",
   "version": "3.5.1+"
  }
 },
 "nbformat": 4,
 "nbformat_minor": 0
}
